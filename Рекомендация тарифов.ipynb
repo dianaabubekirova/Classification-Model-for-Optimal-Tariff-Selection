{
 "cells": [
  {
   "cell_type": "markdown",
   "metadata": {},
   "source": [
    "# Рекомендация тарифов"
   ]
  },
  {
   "cell_type": "markdown",
   "metadata": {},
   "source": [
    "## Откройте и изучите файл"
   ]
  },
  {
   "cell_type": "code",
   "execution_count": 2,
   "metadata": {
    "scrolled": false
   },
   "outputs": [],
   "source": [
    "import pandas as pd\n",
    "from sklearn.model_selection import train_test_split\n",
    "from sklearn.tree import DecisionTreeClassifier\n",
    "from sklearn.metrics import mean_squared_error\n",
    "from sklearn.ensemble import RandomForestClassifier\n",
    "from sklearn.linear_model import LogisticRegression \n",
    "from joblib import dump\n",
    "from sklearn.metrics import accuracy_score"
   ]
  },
  {
   "cell_type": "code",
   "execution_count": 3,
   "metadata": {},
   "outputs": [
    {
     "name": "stdout",
     "output_type": "stream",
     "text": [
      "<class 'pandas.core.frame.DataFrame'>\n",
      "RangeIndex: 3214 entries, 0 to 3213\n",
      "Data columns (total 5 columns):\n",
      " #   Column    Non-Null Count  Dtype  \n",
      "---  ------    --------------  -----  \n",
      " 0   calls     3214 non-null   float64\n",
      " 1   minutes   3214 non-null   float64\n",
      " 2   messages  3214 non-null   float64\n",
      " 3   mb_used   3214 non-null   float64\n",
      " 4   is_ultra  3214 non-null   int64  \n",
      "dtypes: float64(4), int64(1)\n",
      "memory usage: 125.7 KB\n"
     ]
    }
   ],
   "source": [
    "#\n",
    "df = pd.read_csv('/datasets/users_behavior.csv')\n",
    "df.info()"
   ]
  },
  {
   "cell_type": "code",
   "execution_count": 4,
   "metadata": {
    "scrolled": true
   },
   "outputs": [
    {
     "data": {
      "text/html": [
       "<div>\n",
       "<style scoped>\n",
       "    .dataframe tbody tr th:only-of-type {\n",
       "        vertical-align: middle;\n",
       "    }\n",
       "\n",
       "    .dataframe tbody tr th {\n",
       "        vertical-align: top;\n",
       "    }\n",
       "\n",
       "    .dataframe thead th {\n",
       "        text-align: right;\n",
       "    }\n",
       "</style>\n",
       "<table border=\"1\" class=\"dataframe\">\n",
       "  <thead>\n",
       "    <tr style=\"text-align: right;\">\n",
       "      <th></th>\n",
       "      <th>calls</th>\n",
       "      <th>minutes</th>\n",
       "      <th>messages</th>\n",
       "      <th>mb_used</th>\n",
       "      <th>is_ultra</th>\n",
       "    </tr>\n",
       "  </thead>\n",
       "  <tbody>\n",
       "    <tr>\n",
       "      <th>0</th>\n",
       "      <td>40.0</td>\n",
       "      <td>311.90</td>\n",
       "      <td>83.0</td>\n",
       "      <td>19915.42</td>\n",
       "      <td>0</td>\n",
       "    </tr>\n",
       "    <tr>\n",
       "      <th>1</th>\n",
       "      <td>85.0</td>\n",
       "      <td>516.75</td>\n",
       "      <td>56.0</td>\n",
       "      <td>22696.96</td>\n",
       "      <td>0</td>\n",
       "    </tr>\n",
       "    <tr>\n",
       "      <th>2</th>\n",
       "      <td>77.0</td>\n",
       "      <td>467.66</td>\n",
       "      <td>86.0</td>\n",
       "      <td>21060.45</td>\n",
       "      <td>0</td>\n",
       "    </tr>\n",
       "    <tr>\n",
       "      <th>3</th>\n",
       "      <td>106.0</td>\n",
       "      <td>745.53</td>\n",
       "      <td>81.0</td>\n",
       "      <td>8437.39</td>\n",
       "      <td>1</td>\n",
       "    </tr>\n",
       "    <tr>\n",
       "      <th>4</th>\n",
       "      <td>66.0</td>\n",
       "      <td>418.74</td>\n",
       "      <td>1.0</td>\n",
       "      <td>14502.75</td>\n",
       "      <td>0</td>\n",
       "    </tr>\n",
       "    <tr>\n",
       "      <th>5</th>\n",
       "      <td>58.0</td>\n",
       "      <td>344.56</td>\n",
       "      <td>21.0</td>\n",
       "      <td>15823.37</td>\n",
       "      <td>0</td>\n",
       "    </tr>\n",
       "    <tr>\n",
       "      <th>6</th>\n",
       "      <td>57.0</td>\n",
       "      <td>431.64</td>\n",
       "      <td>20.0</td>\n",
       "      <td>3738.90</td>\n",
       "      <td>1</td>\n",
       "    </tr>\n",
       "    <tr>\n",
       "      <th>7</th>\n",
       "      <td>15.0</td>\n",
       "      <td>132.40</td>\n",
       "      <td>6.0</td>\n",
       "      <td>21911.60</td>\n",
       "      <td>0</td>\n",
       "    </tr>\n",
       "    <tr>\n",
       "      <th>8</th>\n",
       "      <td>7.0</td>\n",
       "      <td>43.39</td>\n",
       "      <td>3.0</td>\n",
       "      <td>2538.67</td>\n",
       "      <td>1</td>\n",
       "    </tr>\n",
       "    <tr>\n",
       "      <th>9</th>\n",
       "      <td>90.0</td>\n",
       "      <td>665.41</td>\n",
       "      <td>38.0</td>\n",
       "      <td>17358.61</td>\n",
       "      <td>0</td>\n",
       "    </tr>\n",
       "  </tbody>\n",
       "</table>\n",
       "</div>"
      ],
      "text/plain": [
       "   calls  minutes  messages   mb_used  is_ultra\n",
       "0   40.0   311.90      83.0  19915.42         0\n",
       "1   85.0   516.75      56.0  22696.96         0\n",
       "2   77.0   467.66      86.0  21060.45         0\n",
       "3  106.0   745.53      81.0   8437.39         1\n",
       "4   66.0   418.74       1.0  14502.75         0\n",
       "5   58.0   344.56      21.0  15823.37         0\n",
       "6   57.0   431.64      20.0   3738.90         1\n",
       "7   15.0   132.40       6.0  21911.60         0\n",
       "8    7.0    43.39       3.0   2538.67         1\n",
       "9   90.0   665.41      38.0  17358.61         0"
      ]
     },
     "execution_count": 4,
     "metadata": {},
     "output_type": "execute_result"
    }
   ],
   "source": [
    "df.head(10)"
   ]
  },
  {
   "cell_type": "code",
   "execution_count": 5,
   "metadata": {},
   "outputs": [
    {
     "data": {
      "text/html": [
       "<div>\n",
       "<style scoped>\n",
       "    .dataframe tbody tr th:only-of-type {\n",
       "        vertical-align: middle;\n",
       "    }\n",
       "\n",
       "    .dataframe tbody tr th {\n",
       "        vertical-align: top;\n",
       "    }\n",
       "\n",
       "    .dataframe thead th {\n",
       "        text-align: right;\n",
       "    }\n",
       "</style>\n",
       "<table border=\"1\" class=\"dataframe\">\n",
       "  <thead>\n",
       "    <tr style=\"text-align: right;\">\n",
       "      <th></th>\n",
       "      <th>calls</th>\n",
       "      <th>minutes</th>\n",
       "      <th>messages</th>\n",
       "      <th>mb_used</th>\n",
       "      <th>is_ultra</th>\n",
       "    </tr>\n",
       "  </thead>\n",
       "  <tbody>\n",
       "    <tr>\n",
       "      <th>count</th>\n",
       "      <td>3214.000000</td>\n",
       "      <td>3214.000000</td>\n",
       "      <td>3214.000000</td>\n",
       "      <td>3214.000000</td>\n",
       "      <td>3214.000000</td>\n",
       "    </tr>\n",
       "    <tr>\n",
       "      <th>mean</th>\n",
       "      <td>63.038892</td>\n",
       "      <td>438.208787</td>\n",
       "      <td>38.281269</td>\n",
       "      <td>17207.673836</td>\n",
       "      <td>0.306472</td>\n",
       "    </tr>\n",
       "    <tr>\n",
       "      <th>std</th>\n",
       "      <td>33.236368</td>\n",
       "      <td>234.569872</td>\n",
       "      <td>36.148326</td>\n",
       "      <td>7570.968246</td>\n",
       "      <td>0.461100</td>\n",
       "    </tr>\n",
       "    <tr>\n",
       "      <th>min</th>\n",
       "      <td>0.000000</td>\n",
       "      <td>0.000000</td>\n",
       "      <td>0.000000</td>\n",
       "      <td>0.000000</td>\n",
       "      <td>0.000000</td>\n",
       "    </tr>\n",
       "    <tr>\n",
       "      <th>25%</th>\n",
       "      <td>40.000000</td>\n",
       "      <td>274.575000</td>\n",
       "      <td>9.000000</td>\n",
       "      <td>12491.902500</td>\n",
       "      <td>0.000000</td>\n",
       "    </tr>\n",
       "    <tr>\n",
       "      <th>50%</th>\n",
       "      <td>62.000000</td>\n",
       "      <td>430.600000</td>\n",
       "      <td>30.000000</td>\n",
       "      <td>16943.235000</td>\n",
       "      <td>0.000000</td>\n",
       "    </tr>\n",
       "    <tr>\n",
       "      <th>75%</th>\n",
       "      <td>82.000000</td>\n",
       "      <td>571.927500</td>\n",
       "      <td>57.000000</td>\n",
       "      <td>21424.700000</td>\n",
       "      <td>1.000000</td>\n",
       "    </tr>\n",
       "    <tr>\n",
       "      <th>max</th>\n",
       "      <td>244.000000</td>\n",
       "      <td>1632.060000</td>\n",
       "      <td>224.000000</td>\n",
       "      <td>49745.730000</td>\n",
       "      <td>1.000000</td>\n",
       "    </tr>\n",
       "  </tbody>\n",
       "</table>\n",
       "</div>"
      ],
      "text/plain": [
       "             calls      minutes     messages       mb_used     is_ultra\n",
       "count  3214.000000  3214.000000  3214.000000   3214.000000  3214.000000\n",
       "mean     63.038892   438.208787    38.281269  17207.673836     0.306472\n",
       "std      33.236368   234.569872    36.148326   7570.968246     0.461100\n",
       "min       0.000000     0.000000     0.000000      0.000000     0.000000\n",
       "25%      40.000000   274.575000     9.000000  12491.902500     0.000000\n",
       "50%      62.000000   430.600000    30.000000  16943.235000     0.000000\n",
       "75%      82.000000   571.927500    57.000000  21424.700000     1.000000\n",
       "max     244.000000  1632.060000   224.000000  49745.730000     1.000000"
      ]
     },
     "execution_count": 5,
     "metadata": {},
     "output_type": "execute_result"
    }
   ],
   "source": [
    "df.describe()"
   ]
  },
  {
   "cell_type": "code",
   "execution_count": 6,
   "metadata": {
    "scrolled": true
   },
   "outputs": [
    {
     "data": {
      "text/plain": [
       "0    2229\n",
       "1     985\n",
       "Name: is_ultra, dtype: int64"
      ]
     },
     "execution_count": 6,
     "metadata": {},
     "output_type": "execute_result"
    }
   ],
   "source": [
    "df['is_ultra'].value_counts()"
   ]
  },
  {
   "cell_type": "markdown",
   "metadata": {},
   "source": [
    "На \"Ултра\" тариф переходит чуть меньше половины пользователей"
   ]
  },
  {
   "cell_type": "markdown",
   "metadata": {},
   "source": [
    "## Разбейте данные на выборки"
   ]
  },
  {
   "cell_type": "markdown",
   "metadata": {},
   "source": [
    "### Разделим исходные данные на обучающую, валидационную и тестовую выборки"
   ]
  },
  {
   "cell_type": "markdown",
   "metadata": {},
   "source": [
    "Разделим на целевые признаки и признаки"
   ]
  },
  {
   "cell_type": "code",
   "execution_count": 7,
   "metadata": {},
   "outputs": [],
   "source": [
    "features = df.drop(['is_ultra'], axis=1) #признаки\n",
    "target = df['is_ultra'] #целевое значение"
   ]
  },
  {
   "cell_type": "code",
   "execution_count": 8,
   "metadata": {},
   "outputs": [],
   "source": [
    "features_trainvalid, features_test, target_trainvalid, target_test = train_test_split(\n",
    "    features, target, test_size=0.2, random_state=12345)\n",
    "# Сначала исходные данные разбили на две выборки - объединенную обучающую и валидационную выборки \n",
    "features_train, features_valid, target_train, target_valid = train_test_split(\n",
    "    features_trainvalid, target_trainvalid, test_size=0.25, random_state=12345)"
   ]
  },
  {
   "cell_type": "markdown",
   "metadata": {},
   "source": [
    "## Исследуйте модели"
   ]
  },
  {
   "cell_type": "markdown",
   "metadata": {},
   "source": [
    "### Дерево решений \n",
    "<br> С помощью цикла подберем лучший гиперпараметр maxdepth"
   ]
  },
  {
   "cell_type": "code",
   "execution_count": 9,
   "metadata": {},
   "outputs": [
    {
     "name": "stdout",
     "output_type": "stream",
     "text": [
      "Accuracy лучшей модели: 0.7744945567651633\n",
      "Максимальная глубина: 10\n"
     ]
    }
   ],
   "source": [
    "best_dt_model = None\n",
    "best_dt_result = 0\n",
    "for depth in range(1, 11):\n",
    "    model = DecisionTreeClassifier(random_state=12345, max_depth=depth) \n",
    "    model.fit(features_train, target_train)\n",
    "    predictions = model.predict(features_valid)\n",
    "    result = accuracy_score(target_valid, predictions)\n",
    "    if result > best_dt_result:\n",
    "        best_dt_model = model\n",
    "        best_dt_result = result\n",
    "\n",
    "print(\"Accuracy лучшей модели:\", best_dt_result)\n",
    "    \n",
    "print(\"Максимальная глубина:\", depth)\n",
    "\n",
    "\n"
   ]
  },
  {
   "cell_type": "markdown",
   "metadata": {},
   "source": [
    "### Случайный лес\n",
    "<br>  С помощью цикла подберем лучший гиперпараметр "
   ]
  },
  {
   "cell_type": "code",
   "execution_count": 10,
   "metadata": {
    "scrolled": true
   },
   "outputs": [
    {
     "name": "stdout",
     "output_type": "stream",
     "text": [
      "Accuracy наилучшей модели на валидационной выборке: 0.7884914463452566 Количество деревьев: 10\n"
     ]
    }
   ],
   "source": [
    "best_forest_model = None\n",
    "best_forest_result = 0\n",
    "for est in range(1, 11):\n",
    "    model = RandomForestClassifier(random_state=12345, n_estimators= est)\n",
    "    model.fit(features_train, target_train)\n",
    "    result = model.score(features_valid, target_valid)\n",
    "    if result > best_forest_result:\n",
    "        best_forest_model = model\n",
    "        best_forest_result = result\n",
    "print(\"Accuracy наилучшей модели на валидационной выборке:\", best_forest_result,\"Количество деревьев:\", est,)"
   ]
  },
  {
   "cell_type": "markdown",
   "metadata": {},
   "source": [
    "### Логистическая регрессия \n",
    "<br> Установим solver='lbfgs', max_iter=1000"
   ]
  },
  {
   "cell_type": "code",
   "execution_count": 11,
   "metadata": {},
   "outputs": [
    {
     "name": "stdout",
     "output_type": "stream",
     "text": [
      "Accuracy наилучшей модели на валидационной выборке: 0.7262830482115086\n"
     ]
    }
   ],
   "source": [
    "model = LogisticRegression(random_state=12345, solver='lbfgs', max_iter=1000)\n",
    "model.fit(features_train, target_train)\n",
    "model.score(features_train, target_train)\n",
    "prediction_valid = model.predict(features_valid)\n",
    "accuracy = accuracy_score(prediction_valid, target_valid)\n",
    "\n",
    "print(\"Accuracy наилучшей модели на валидационной выборке:\", accuracy)"
   ]
  },
  {
   "cell_type": "markdown",
   "metadata": {},
   "source": [
    "### Вывод:\n",
    "Наилучшими гиперпараметрами являются: \n",
    "1. DesicionTreeClassifier при depth = 10, \n",
    "2. RandomForestClassifier при n_estimators = 50, \n",
    "3. LogisticRegression при solver = 'lbfgs', max_iter = 1000        "
   ]
  },
  {
   "cell_type": "markdown",
   "metadata": {},
   "source": [
    "## Проверьте модель на тестовой выборке"
   ]
  },
  {
   "cell_type": "markdown",
   "metadata": {},
   "source": [
    "Проверим лучшую модель случайного леса на тестовой выборке"
   ]
  },
  {
   "cell_type": "code",
   "execution_count": 12,
   "metadata": {},
   "outputs": [
    {
     "name": "stdout",
     "output_type": "stream",
     "text": [
      "Accuracy лучшей модели случайного леса на тестовой выборке: 0.7869362363919129\n"
     ]
    }
   ],
   "source": [
    "test_forest_predictions = best_forest_model.predict(features_test)\n",
    "test_forest_accuracy = accuracy_score(target_test, test_forest_predictions)\n",
    "print(\"Accuracy лучшей модели случайного леса на тестовой выборке:\", test_forest_accuracy)"
   ]
  },
  {
   "cell_type": "markdown",
   "metadata": {},
   "source": [
    "Проверим лучшую модель дерева решений на тестовой выборке"
   ]
  },
  {
   "cell_type": "code",
   "execution_count": 13,
   "metadata": {},
   "outputs": [
    {
     "name": "stdout",
     "output_type": "stream",
     "text": [
      "Accuracy лучшей модели дерева решений на тестовой выборке: 0.7884914463452566\n"
     ]
    }
   ],
   "source": [
    "test_dt_predictions = best_dt_model.predict(features_test)\n",
    "test_dt_accuracy = accuracy_score(target_test, test_dt_predictions)\n",
    "print(\"Accuracy лучшей модели дерева решений на тестовой выборке:\", test_dt_accuracy)"
   ]
  },
  {
   "cell_type": "markdown",
   "metadata": {},
   "source": [
    "## (бонус) Проверьте модели на адекватность"
   ]
  },
  {
   "cell_type": "code",
   "execution_count": 14,
   "metadata": {},
   "outputs": [
    {
     "name": "stdout",
     "output_type": "stream",
     "text": [
      "Accuracy on validation set: 0.7262830482115086\n"
     ]
    }
   ],
   "source": [
    "model = LogisticRegression()\n",
    "model.fit(features_train, target_train)\n",
    "\n",
    "# Оценка точности на валидационной выборке\n",
    "accuracy = model.score(features_valid, target_valid)\n",
    "print('Accuracy on validation set:', accuracy)"
   ]
  },
  {
   "cell_type": "code",
   "execution_count": 15,
   "metadata": {},
   "outputs": [
    {
     "name": "stdout",
     "output_type": "stream",
     "text": [
      "Accuracy наилучшей модели на тестовой выборке: 0.7884914463452566\n"
     ]
    }
   ],
   "source": [
    "best_model = None\n",
    "best_result = 0\n",
    "for est in range(1, 11):\n",
    "    model = RandomForestClassifier(random_state=12345, n_estimators= est) # обучите модель с заданным количеством деревьев\n",
    "    model.fit(features_train, target_train)\n",
    "    result = model.score(features_valid, target_valid) # посчитайте качество модели на валидационной выборке\n",
    "    if result > best_result:\n",
    "        best_model = model\n",
    "        best_result = result\n",
    "\n",
    "print(\"Accuracy наилучшей модели на тестовой выборке:\", best_result)"
   ]
  },
  {
   "cell_type": "markdown",
   "metadata": {},
   "source": [
    "Через случай лес получилось добиться accuracy не меньше 0.75 на валидационной выборке "
   ]
  }
 ],
 "metadata": {
  "ExecuteTimeLog": [
   {
    "duration": 638,
    "start_time": "2023-03-23T17:48:52.496Z"
   },
   {
    "duration": 19,
    "start_time": "2023-03-23T17:49:59.936Z"
   },
   {
    "duration": 37,
    "start_time": "2023-03-23T17:50:02.346Z"
   },
   {
    "duration": 71,
    "start_time": "2023-03-23T18:03:21.225Z"
   },
   {
    "duration": 8,
    "start_time": "2023-03-23T18:03:31.235Z"
   },
   {
    "duration": 8,
    "start_time": "2023-03-23T18:04:05.931Z"
   },
   {
    "duration": 734,
    "start_time": "2023-03-23T18:10:26.672Z"
   },
   {
    "duration": 43,
    "start_time": "2023-03-23T18:15:22.902Z"
   },
   {
    "duration": 5,
    "start_time": "2023-03-23T18:15:28.245Z"
   },
   {
    "duration": 4,
    "start_time": "2023-03-23T18:23:33.227Z"
   },
   {
    "duration": 8,
    "start_time": "2023-03-23T18:27:21.573Z"
   },
   {
    "duration": 8,
    "start_time": "2023-03-23T18:27:46.487Z"
   },
   {
    "duration": 3,
    "start_time": "2023-03-23T18:30:50.536Z"
   },
   {
    "duration": 14,
    "start_time": "2023-03-23T18:30:52.085Z"
   },
   {
    "duration": 38,
    "start_time": "2023-03-23T18:30:56.080Z"
   },
   {
    "duration": 11,
    "start_time": "2023-03-23T18:30:56.120Z"
   },
   {
    "duration": 41,
    "start_time": "2023-03-23T18:30:56.132Z"
   },
   {
    "duration": 36,
    "start_time": "2023-03-23T18:30:56.175Z"
   },
   {
    "duration": 17,
    "start_time": "2023-03-23T18:30:56.212Z"
   },
   {
    "duration": 40,
    "start_time": "2023-03-23T18:30:56.230Z"
   },
   {
    "duration": 11,
    "start_time": "2023-03-23T18:34:45.469Z"
   },
   {
    "duration": 456,
    "start_time": "2023-03-27T11:41:53.217Z"
   },
   {
    "duration": 18,
    "start_time": "2023-03-27T11:41:53.675Z"
   },
   {
    "duration": 7,
    "start_time": "2023-03-27T11:41:53.694Z"
   },
   {
    "duration": 668,
    "start_time": "2023-03-27T11:41:53.702Z"
   },
   {
    "duration": 4,
    "start_time": "2023-03-27T11:41:54.372Z"
   },
   {
    "duration": 99,
    "start_time": "2023-03-27T11:41:54.378Z"
   },
   {
    "duration": 8,
    "start_time": "2023-03-27T11:48:45.579Z"
   },
   {
    "duration": 57,
    "start_time": "2023-03-27T12:36:07.289Z"
   },
   {
    "duration": 14,
    "start_time": "2023-03-27T12:37:27.424Z"
   },
   {
    "duration": 7,
    "start_time": "2023-03-27T12:37:36.720Z"
   },
   {
    "duration": 21,
    "start_time": "2023-03-27T12:37:38.258Z"
   },
   {
    "duration": 1038,
    "start_time": "2023-03-27T12:37:53.847Z"
   },
   {
    "duration": 56,
    "start_time": "2023-03-27T12:38:13.484Z"
   },
   {
    "duration": 65,
    "start_time": "2023-03-27T12:38:19.290Z"
   },
   {
    "duration": 73,
    "start_time": "2023-03-27T12:42:57.381Z"
   },
   {
    "duration": 65,
    "start_time": "2023-03-27T12:43:48.094Z"
   },
   {
    "duration": 73,
    "start_time": "2023-03-27T12:45:43.589Z"
   },
   {
    "duration": 9,
    "start_time": "2023-03-27T12:47:40.983Z"
   },
   {
    "duration": 10,
    "start_time": "2023-03-27T12:48:17.758Z"
   },
   {
    "duration": 10,
    "start_time": "2023-03-27T12:48:35.842Z"
   },
   {
    "duration": 1638,
    "start_time": "2023-03-27T12:49:34.043Z"
   },
   {
    "duration": 89,
    "start_time": "2023-03-27T13:00:36.202Z"
   },
   {
    "duration": 82,
    "start_time": "2023-03-27T13:01:27.199Z"
   },
   {
    "duration": 1582,
    "start_time": "2023-03-27T13:18:09.755Z"
   },
   {
    "duration": 72,
    "start_time": "2023-03-27T13:18:18.305Z"
   },
   {
    "duration": 288,
    "start_time": "2023-03-27T13:19:35.102Z"
   },
   {
    "duration": 258,
    "start_time": "2023-03-27T13:23:14.535Z"
   },
   {
    "duration": 28,
    "start_time": "2023-03-27T13:27:27.051Z"
   },
   {
    "duration": 40,
    "start_time": "2023-03-27T13:27:44.183Z"
   },
   {
    "duration": 262,
    "start_time": "2023-03-27T13:28:38.373Z"
   },
   {
    "duration": 43,
    "start_time": "2023-03-27T13:30:01.915Z"
   },
   {
    "duration": 14,
    "start_time": "2023-03-27T13:30:01.961Z"
   },
   {
    "duration": 33,
    "start_time": "2023-03-27T13:30:01.977Z"
   },
   {
    "duration": 27,
    "start_time": "2023-03-27T13:30:02.012Z"
   },
   {
    "duration": 27,
    "start_time": "2023-03-27T13:30:02.042Z"
   },
   {
    "duration": 43,
    "start_time": "2023-03-27T13:30:02.071Z"
   },
   {
    "duration": 100,
    "start_time": "2023-03-27T13:30:02.116Z"
   },
   {
    "duration": 1560,
    "start_time": "2023-03-27T13:30:02.218Z"
   },
   {
    "duration": 139,
    "start_time": "2023-03-27T13:30:03.780Z"
   },
   {
    "duration": 271,
    "start_time": "2023-03-27T13:30:03.920Z"
   },
   {
    "duration": 45,
    "start_time": "2023-03-27T13:30:04.192Z"
   },
   {
    "duration": 278,
    "start_time": "2023-03-27T13:30:04.239Z"
   },
   {
    "duration": 469,
    "start_time": "2023-03-27T13:45:40.940Z"
   },
   {
    "duration": 18,
    "start_time": "2023-03-27T13:45:41.411Z"
   },
   {
    "duration": 5,
    "start_time": "2023-03-27T13:45:41.431Z"
   },
   {
    "duration": 1794,
    "start_time": "2023-03-27T13:45:41.437Z"
   },
   {
    "duration": 4,
    "start_time": "2023-03-27T13:45:43.233Z"
   },
   {
    "duration": 10,
    "start_time": "2023-03-27T13:45:43.239Z"
   },
   {
    "duration": 158,
    "start_time": "2023-03-27T13:45:43.251Z"
   },
   {
    "duration": 0,
    "start_time": "2023-03-27T13:45:43.411Z"
   },
   {
    "duration": 0,
    "start_time": "2023-03-27T13:45:43.412Z"
   },
   {
    "duration": 0,
    "start_time": "2023-03-27T13:45:43.413Z"
   },
   {
    "duration": 0,
    "start_time": "2023-03-27T13:45:43.414Z"
   },
   {
    "duration": 0,
    "start_time": "2023-03-27T13:45:43.415Z"
   },
   {
    "duration": 210,
    "start_time": "2023-03-27T13:46:38.081Z"
   },
   {
    "duration": 130,
    "start_time": "2023-03-27T13:46:41.228Z"
   },
   {
    "duration": 1173,
    "start_time": "2023-03-27T17:02:53.700Z"
   },
   {
    "duration": 73,
    "start_time": "2023-03-27T17:02:54.876Z"
   },
   {
    "duration": 21,
    "start_time": "2023-03-27T17:02:54.952Z"
   },
   {
    "duration": 7,
    "start_time": "2023-03-27T17:02:54.974Z"
   },
   {
    "duration": 7,
    "start_time": "2023-03-27T17:02:54.983Z"
   },
   {
    "duration": 14,
    "start_time": "2023-03-27T17:02:54.991Z"
   },
   {
    "duration": 120,
    "start_time": "2023-03-27T17:02:55.007Z"
   },
   {
    "duration": 0,
    "start_time": "2023-03-27T17:02:55.129Z"
   },
   {
    "duration": 0,
    "start_time": "2023-03-27T17:02:55.131Z"
   },
   {
    "duration": 0,
    "start_time": "2023-03-27T17:02:55.132Z"
   },
   {
    "duration": 0,
    "start_time": "2023-03-27T17:02:55.133Z"
   },
   {
    "duration": 0,
    "start_time": "2023-03-27T17:02:55.134Z"
   },
   {
    "duration": 33,
    "start_time": "2023-03-27T17:03:29.340Z"
   },
   {
    "duration": 20,
    "start_time": "2023-03-27T17:04:33.056Z"
   },
   {
    "duration": 4,
    "start_time": "2023-03-27T17:05:21.539Z"
   },
   {
    "duration": 4,
    "start_time": "2023-03-27T17:05:23.985Z"
   },
   {
    "duration": 42,
    "start_time": "2023-03-27T17:05:23.992Z"
   },
   {
    "duration": 18,
    "start_time": "2023-03-27T17:05:24.036Z"
   },
   {
    "duration": 38,
    "start_time": "2023-03-27T17:05:24.056Z"
   },
   {
    "duration": 7,
    "start_time": "2023-03-27T17:05:24.097Z"
   },
   {
    "duration": 7,
    "start_time": "2023-03-27T17:05:24.106Z"
   },
   {
    "duration": 13,
    "start_time": "2023-03-27T17:05:24.115Z"
   },
   {
    "duration": 46,
    "start_time": "2023-03-27T17:05:24.131Z"
   },
   {
    "duration": 0,
    "start_time": "2023-03-27T17:05:24.179Z"
   },
   {
    "duration": 0,
    "start_time": "2023-03-27T17:05:24.181Z"
   },
   {
    "duration": 0,
    "start_time": "2023-03-27T17:05:24.183Z"
   },
   {
    "duration": 0,
    "start_time": "2023-03-27T17:05:24.184Z"
   },
   {
    "duration": 0,
    "start_time": "2023-03-27T17:05:24.186Z"
   },
   {
    "duration": 82,
    "start_time": "2023-03-27T17:06:42.664Z"
   },
   {
    "duration": 1752,
    "start_time": "2023-03-27T17:06:53.289Z"
   },
   {
    "duration": 138,
    "start_time": "2023-03-27T17:16:10.176Z"
   },
   {
    "duration": 123,
    "start_time": "2023-03-27T17:16:22.742Z"
   },
   {
    "duration": 131,
    "start_time": "2023-03-27T17:16:39.048Z"
   },
   {
    "duration": 54,
    "start_time": "2023-03-27T17:18:14.945Z"
   },
   {
    "duration": 74,
    "start_time": "2023-03-27T17:20:08.384Z"
   },
   {
    "duration": 7,
    "start_time": "2023-03-27T17:20:20.751Z"
   },
   {
    "duration": 63,
    "start_time": "2023-03-27T17:20:24.688Z"
   },
   {
    "duration": 4,
    "start_time": "2023-03-27T17:29:39.921Z"
   },
   {
    "duration": 41,
    "start_time": "2023-03-27T17:29:39.927Z"
   },
   {
    "duration": 16,
    "start_time": "2023-03-27T17:29:39.970Z"
   },
   {
    "duration": 32,
    "start_time": "2023-03-27T17:29:39.988Z"
   },
   {
    "duration": 6,
    "start_time": "2023-03-27T17:29:40.023Z"
   },
   {
    "duration": 6,
    "start_time": "2023-03-27T17:29:40.031Z"
   },
   {
    "duration": 8,
    "start_time": "2023-03-27T17:29:40.038Z"
   },
   {
    "duration": 87,
    "start_time": "2023-03-27T17:29:40.048Z"
   },
   {
    "duration": 1661,
    "start_time": "2023-03-27T17:29:40.138Z"
   },
   {
    "duration": 86,
    "start_time": "2023-03-27T17:29:41.801Z"
   },
   {
    "duration": 276,
    "start_time": "2023-03-27T17:29:41.889Z"
   },
   {
    "duration": 37,
    "start_time": "2023-03-27T17:29:42.167Z"
   },
   {
    "duration": 295,
    "start_time": "2023-03-27T17:29:42.206Z"
   },
   {
    "duration": 330,
    "start_time": "2023-03-27T17:32:26.640Z"
   },
   {
    "duration": 400,
    "start_time": "2023-03-27T17:34:06.291Z"
   },
   {
    "duration": 7627,
    "start_time": "2023-03-27T17:34:32.814Z"
   },
   {
    "duration": 103,
    "start_time": "2023-03-27T17:34:40.443Z"
   },
   {
    "duration": 4,
    "start_time": "2023-03-27T17:34:48.093Z"
   },
   {
    "duration": 43,
    "start_time": "2023-03-27T17:34:48.099Z"
   },
   {
    "duration": 12,
    "start_time": "2023-03-27T17:34:48.144Z"
   },
   {
    "duration": 37,
    "start_time": "2023-03-27T17:34:48.158Z"
   },
   {
    "duration": 6,
    "start_time": "2023-03-27T17:34:48.198Z"
   },
   {
    "duration": 6,
    "start_time": "2023-03-27T17:34:48.206Z"
   },
   {
    "duration": 8,
    "start_time": "2023-03-27T17:34:48.214Z"
   },
   {
    "duration": 92,
    "start_time": "2023-03-27T17:34:48.224Z"
   },
   {
    "duration": 7307,
    "start_time": "2023-03-27T17:34:48.317Z"
   },
   {
    "duration": 84,
    "start_time": "2023-03-27T17:34:55.625Z"
   },
   {
    "duration": 283,
    "start_time": "2023-03-27T17:34:55.710Z"
   },
   {
    "duration": 41,
    "start_time": "2023-03-27T17:34:55.995Z"
   },
   {
    "duration": 321,
    "start_time": "2023-03-27T17:34:56.037Z"
   },
   {
    "duration": 646,
    "start_time": "2023-03-27T17:36:17.177Z"
   },
   {
    "duration": 692,
    "start_time": "2023-03-27T17:36:55.840Z"
   },
   {
    "duration": 79,
    "start_time": "2023-03-27T17:38:29.220Z"
   },
   {
    "duration": 78,
    "start_time": "2023-03-27T17:44:21.134Z"
   },
   {
    "duration": 50,
    "start_time": "2023-03-27T17:44:52.684Z"
   },
   {
    "duration": 151,
    "start_time": "2023-03-27T17:45:15.329Z"
   },
   {
    "duration": 118,
    "start_time": "2023-03-27T17:45:55.940Z"
   },
   {
    "duration": 1258,
    "start_time": "2023-03-27T17:47:18.206Z"
   },
   {
    "duration": 42,
    "start_time": "2023-03-27T17:47:19.467Z"
   },
   {
    "duration": 29,
    "start_time": "2023-03-27T17:47:19.511Z"
   },
   {
    "duration": 49,
    "start_time": "2023-03-27T17:47:19.542Z"
   },
   {
    "duration": 8,
    "start_time": "2023-03-27T17:47:19.594Z"
   },
   {
    "duration": 6,
    "start_time": "2023-03-27T17:47:19.604Z"
   },
   {
    "duration": 11,
    "start_time": "2023-03-27T17:47:19.612Z"
   },
   {
    "duration": 179,
    "start_time": "2023-03-27T17:47:19.625Z"
   },
   {
    "duration": 831,
    "start_time": "2023-03-27T17:47:19.807Z"
   },
   {
    "duration": 104,
    "start_time": "2023-03-27T17:47:20.640Z"
   },
   {
    "duration": 281,
    "start_time": "2023-03-27T17:47:20.746Z"
   },
   {
    "duration": 56,
    "start_time": "2023-03-27T17:47:21.029Z"
   },
   {
    "duration": 301,
    "start_time": "2023-03-27T17:47:21.087Z"
   },
   {
    "duration": 47,
    "start_time": "2023-03-27T17:49:45.703Z"
   },
   {
    "duration": 668,
    "start_time": "2023-03-27T17:50:18.107Z"
   },
   {
    "duration": 1166,
    "start_time": "2023-03-27T17:50:44.410Z"
   },
   {
    "duration": 37,
    "start_time": "2023-03-27T17:50:45.578Z"
   },
   {
    "duration": 26,
    "start_time": "2023-03-27T17:50:45.617Z"
   },
   {
    "duration": 37,
    "start_time": "2023-03-27T17:50:45.645Z"
   },
   {
    "duration": 8,
    "start_time": "2023-03-27T17:50:45.685Z"
   },
   {
    "duration": 8,
    "start_time": "2023-03-27T17:50:45.695Z"
   },
   {
    "duration": 10,
    "start_time": "2023-03-27T17:50:45.705Z"
   },
   {
    "duration": 159,
    "start_time": "2023-03-27T17:50:45.717Z"
   },
   {
    "duration": 22623,
    "start_time": "2023-03-27T17:50:45.880Z"
   },
   {
    "duration": 47,
    "start_time": "2023-03-27T17:51:08.507Z"
   },
   {
    "duration": 324,
    "start_time": "2023-03-27T17:51:08.555Z"
   },
   {
    "duration": 63,
    "start_time": "2023-03-27T17:51:08.881Z"
   },
   {
    "duration": 294,
    "start_time": "2023-03-27T17:51:08.946Z"
   },
   {
    "duration": 714,
    "start_time": "2023-03-27T17:51:18.074Z"
   },
   {
    "duration": 60,
    "start_time": "2023-03-27T18:08:07.776Z"
   },
   {
    "duration": 248,
    "start_time": "2023-03-27T18:08:55.883Z"
   },
   {
    "duration": 175,
    "start_time": "2023-03-27T18:12:11.722Z"
   },
   {
    "duration": 16,
    "start_time": "2023-03-27T18:14:54.988Z"
   },
   {
    "duration": 33,
    "start_time": "2023-03-27T18:15:11.263Z"
   },
   {
    "duration": 103,
    "start_time": "2023-03-27T18:16:23.943Z"
   },
   {
    "duration": 17,
    "start_time": "2023-03-27T18:17:43.211Z"
   },
   {
    "duration": 72,
    "start_time": "2023-03-27T18:27:33.462Z"
   },
   {
    "duration": 362,
    "start_time": "2023-03-27T18:28:26.644Z"
   },
   {
    "duration": 10,
    "start_time": "2023-03-27T18:29:25.895Z"
   },
   {
    "duration": 9,
    "start_time": "2023-03-27T18:30:15.908Z"
   },
   {
    "duration": 292,
    "start_time": "2023-03-27T18:31:01.807Z"
   },
   {
    "duration": 2537,
    "start_time": "2023-03-28T06:06:47.166Z"
   },
   {
    "duration": 59,
    "start_time": "2023-03-28T06:06:49.705Z"
   },
   {
    "duration": 21,
    "start_time": "2023-03-28T06:06:49.766Z"
   },
   {
    "duration": 26,
    "start_time": "2023-03-28T06:06:49.789Z"
   },
   {
    "duration": 38,
    "start_time": "2023-03-28T06:06:49.817Z"
   },
   {
    "duration": 12,
    "start_time": "2023-03-28T06:06:49.858Z"
   },
   {
    "duration": 15,
    "start_time": "2023-03-28T06:06:49.872Z"
   },
   {
    "duration": 92,
    "start_time": "2023-03-28T06:06:49.888Z"
   },
   {
    "duration": 346,
    "start_time": "2023-03-28T06:06:49.982Z"
   },
   {
    "duration": 55,
    "start_time": "2023-03-28T06:06:50.340Z"
   },
   {
    "duration": 8,
    "start_time": "2023-03-28T06:06:50.397Z"
   },
   {
    "duration": 6,
    "start_time": "2023-03-28T06:06:50.407Z"
   },
   {
    "duration": 91,
    "start_time": "2023-03-28T06:06:50.415Z"
   },
   {
    "duration": 339,
    "start_time": "2023-03-28T06:06:50.510Z"
   },
   {
    "duration": 54,
    "start_time": "2023-03-28T17:30:09.521Z"
   },
   {
    "duration": 1109,
    "start_time": "2023-03-28T17:30:15.048Z"
   },
   {
    "duration": 75,
    "start_time": "2023-03-28T17:30:16.159Z"
   },
   {
    "duration": 22,
    "start_time": "2023-03-28T17:30:16.236Z"
   },
   {
    "duration": 25,
    "start_time": "2023-03-28T17:30:16.260Z"
   },
   {
    "duration": 7,
    "start_time": "2023-03-28T17:30:16.287Z"
   },
   {
    "duration": 7,
    "start_time": "2023-03-28T17:30:16.295Z"
   },
   {
    "duration": 7,
    "start_time": "2023-03-28T17:30:16.304Z"
   },
   {
    "duration": 100,
    "start_time": "2023-03-28T17:30:16.313Z"
   },
   {
    "duration": 328,
    "start_time": "2023-03-28T17:30:16.415Z"
   },
   {
    "duration": 33,
    "start_time": "2023-03-28T17:30:16.746Z"
   },
   {
    "duration": 9,
    "start_time": "2023-03-28T17:30:16.780Z"
   },
   {
    "duration": 6,
    "start_time": "2023-03-28T17:30:16.791Z"
   },
   {
    "duration": 62,
    "start_time": "2023-03-28T17:30:16.799Z"
   },
   {
    "duration": 333,
    "start_time": "2023-03-28T17:30:16.863Z"
   },
   {
    "duration": 55,
    "start_time": "2023-03-29T15:35:27.756Z"
   },
   {
    "duration": 1244,
    "start_time": "2023-03-29T15:35:31.115Z"
   },
   {
    "duration": 186,
    "start_time": "2023-03-29T15:35:32.361Z"
   },
   {
    "duration": 16,
    "start_time": "2023-03-29T15:35:32.548Z"
   },
   {
    "duration": 52,
    "start_time": "2023-03-29T15:35:32.566Z"
   },
   {
    "duration": 13,
    "start_time": "2023-03-29T15:35:32.621Z"
   },
   {
    "duration": 28,
    "start_time": "2023-03-29T15:35:32.636Z"
   },
   {
    "duration": 40,
    "start_time": "2023-03-29T15:35:32.665Z"
   },
   {
    "duration": 94,
    "start_time": "2023-03-29T15:35:32.707Z"
   },
   {
    "duration": 264,
    "start_time": "2023-03-29T15:35:32.802Z"
   },
   {
    "duration": 57,
    "start_time": "2023-03-29T15:35:33.068Z"
   },
   {
    "duration": 9,
    "start_time": "2023-03-29T15:35:33.127Z"
   },
   {
    "duration": 5,
    "start_time": "2023-03-29T15:35:33.137Z"
   },
   {
    "duration": 58,
    "start_time": "2023-03-29T15:35:33.144Z"
   },
   {
    "duration": 271,
    "start_time": "2023-03-29T15:35:33.205Z"
   }
  ],
  "kernelspec": {
   "display_name": "Python 3 (ipykernel)",
   "language": "python",
   "name": "python3"
  },
  "language_info": {
   "codemirror_mode": {
    "name": "ipython",
    "version": 3
   },
   "file_extension": ".py",
   "mimetype": "text/x-python",
   "name": "python",
   "nbconvert_exporter": "python",
   "pygments_lexer": "ipython3",
   "version": "3.9.13"
  },
  "toc": {
   "base_numbering": 1,
   "nav_menu": {},
   "number_sections": true,
   "sideBar": true,
   "skip_h1_title": true,
   "title_cell": "Table of Contents",
   "title_sidebar": "Contents",
   "toc_cell": false,
   "toc_position": {},
   "toc_section_display": true,
   "toc_window_display": false
  }
 },
 "nbformat": 4,
 "nbformat_minor": 2
}
